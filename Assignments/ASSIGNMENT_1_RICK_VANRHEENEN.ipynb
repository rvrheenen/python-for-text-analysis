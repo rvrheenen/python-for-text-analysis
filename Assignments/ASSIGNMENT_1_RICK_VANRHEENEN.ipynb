{
 "cells": [
  {
   "cell_type": "markdown",
   "metadata": {},
   "source": [
    "# Assignment 1: Calculation, Strings, Boolean Expressions and Conditions\n",
    "\n",
    "**Deadline: Friday, September 6, 2019 before 23.59** \n",
    "\n",
    "- Please name your notebook with the following naming convention: ASSIGNMENT_1_FIRSTNAME_LASTNAME.ipynb \n",
    "- Please submit your assignment using [this google form](https://forms.gle/sErunaA1dv9Bf2eHA)\n",
    "- If you have **questions** about this topic, please contact **Pia (pia.sommerauer@vu.nl)**.\n",
    "\n",
    "\n",
    "In this block, we covered the following chapters:\n",
    "\n",
    "- Chapter 1 - Getting Started with Variables and Values\n",
    "- Chapter 2 - Basic Data Types (Integers and Floats)\n",
    "- Chapter 3 - Strings\n",
    "- Chapter 4 - Boolean Expressions and Conditions\n",
    "\n",
    "In this assignment, you will be asked to show what you have learned from the topics above! \n",
    "\n",
    "**Finding solutions online**\n",
    "\n",
    "Very often, you can find good solutions online. We encourage you to use online resources when you get stuck. However, please always try to understand the code you find and indicate that it is not your own. Use the following format to mark code written by someone else:\n",
    "\n",
    "###Taken from [link] [date]\n",
    "\n",
    "[code]\n",
    "\n",
    "\\###\n",
    "\n",
    "Please use a similar format to indicate that you have worked with a classmate (e.g. mention the name instead of the link). \n",
    "\n",
    "*Please stick to this strategy for all course assignments.*"
   ]
  },
  {
   "cell_type": "markdown",
   "metadata": {},
   "source": [
    "## Exercise 1: Calculation\n"
   ]
  },
  {
   "cell_type": "markdown",
   "metadata": {},
   "source": [
    "#### 1a. Average \n",
    "Define three variables `var1`, `var2` and `var3`. Calculate the average of these variables and assign it to the variable `average`. Print the outcome of your program as follows (use casting or an f-string):\n",
    "\n",
    "`The average of [...], [...] and [...] is: [...]`"
   ]
  },
  {
   "cell_type": "code",
   "execution_count": 2,
   "metadata": {},
   "outputs": [
    {
     "name": "stdout",
     "output_type": "stream",
     "text": [
      "The average of 3, 3 and 19 is: 8.333333333333334\n"
     ]
    }
   ],
   "source": [
    "# average code\n",
    "import random\n",
    "var1 = random.randint(1,20)\n",
    "var2 = random.randint(1,20)\n",
    "var3 = random.randint(1,20)\n",
    "\n",
    "print(f\"The average of {var1}, {var2} and {var3} is: {sum([var1,var2,var3])/len([var1,var2,var3])}\")"
   ]
  },
  {
   "cell_type": "markdown",
   "metadata": {},
   "source": [
    "#### 1b. Book prices\n",
    "Suppose the cover price of a book is 24.95 EUR, but bookstores get a 40 percent discount. Shipping costs 3 EUR for the first copy and 75 cents for each additional copy. Write a program that can calculate the total costs for any number of copies for both bookstores and other customers. Use variables with clear names for your calculations and print the result using a full sentence.\n",
    "\n",
    "**Tip**\n",
    "\n",
    "Start small and add things in steps. For instance, start by calculating the price minus the discount. Then add the additional steps. Also, it helps to a start by simply assuming a specific number of books (start with 1 and make sure it works with any other number). Do not forget to test your program! "
   ]
  },
  {
   "cell_type": "code",
   "execution_count": 24,
   "metadata": {},
   "outputs": [
    {
     "name": "stdout",
     "output_type": "stream",
     "text": [
      "To buy 1 book as a other customer it costs: €27.95\n",
      "To buy 1 book as a book store it costs: €17.97\n",
      "To buy 5 books as a other customer it costs: €130.75\n",
      "To buy 1 book as a other customer it costs: €27.95\n",
      "To buy 3 books as a book store it costs: €49.41\n"
     ]
    }
   ],
   "source": [
    "# book price code\n",
    "def calc_book_costs(book_amount, is_bookstore):\n",
    "    BOOK_PRICE = 24.95\n",
    "    BOOKSTORE_DISCOUNT = 0.40 \n",
    "    \n",
    "    book_costs = book_amount * BOOK_PRICE\n",
    "    if is_bookstore:\n",
    "        book_costs *= 1 - BOOKSTORE_DISCOUNT\n",
    "        \n",
    "    shipping_costs = 3 + (0.75 * (book_amount - 1))\n",
    "    \n",
    "    return book_costs + shipping_costs\n",
    "\n",
    "for i in range(5):\n",
    "    book_amount = random.randint(1,5)\n",
    "    is_bookstore = random.choice([True, False])\n",
    "    print(f\"To buy {book_amount} book{'s' if book_amount > 1 else ''} as a {'book store' if is_bookstore else 'other customer'} it costs: €{calc_book_costs(book_amount, is_bookstore):.2f}\")"
   ]
  },
  {
   "cell_type": "markdown",
   "metadata": {},
   "source": [
    "#### 1c. The modulus operator \n",
    "\n",
    "There is one operator (like the ones for multiplication and subtraction) that we did not discuss yet, namely the modulus operator %. Could you figure out by yourself what it does when you place it between two numbers (e.g. 113 % 9)? (PS: It's OK to get help online...) You don't need this operator all that often, but when you do, it comes in really handy!\n"
   ]
  },
  {
   "cell_type": "code",
   "execution_count": 34,
   "metadata": {},
   "outputs": [
    {
     "name": "stdout",
     "output_type": "stream",
     "text": [
      "Amount of coins of size 100 is: 11\n",
      "Amount of coins of size 25 is: 2\n",
      "Amount of coins of size 10 is: 0\n",
      "Amount of coins of size 5 is: 1\n",
      "Amount of coins of size 1 is: 1\n"
     ]
    }
   ],
   "source": [
    "# try out the modulus operator!\n",
    "def print_change(amount):\n",
    "    amount *= 100\n",
    "    coin_sizes = [100,25,10,5,1]\n",
    "    for coin_size in coin_sizes:\n",
    "        print(f\"Amount of coins of size {coin_size} is: {amount//coin_size:.0f}\")\n",
    "        amount %= coin_size     \n",
    "    \n",
    "print_change(11.56)\n"
   ]
  },
  {
   "cell_type": "markdown",
   "metadata": {},
   "source": [
    "Can you use the modulus operator you just learned about to solve the following task? Write a code block that classifies a given amount of money into smaller monetary units. Set the amount variable to 11.56. You code should output a report listing the monetary equivalent in dollars, quarters, dimes, nickels, and pennies. Your program should report the maximum number of dollars, then the number of quarters, dimes, nickels, and pennies, in this order, to result in the minimum number of coins. Here are the steps in developing the program:\n",
    "\n",
    "1. Convert the amount (11.56) into cents (1156).\n",
    "2. First get the amount of cents that you would get after subtracting the maximum amount of dollars (100 cents) using the modulus operator (56 cents).\n",
    "3. Then subtract the remainder (56 cents) from the total amount of cents (1156 cents) and divide this by 100 to find the number of dollars.\n",
    "4. Use the modulus operator again to find out the remainder after subtracting the maximum amount of quarters (6 cents).\n",
    "5. Subtract this remainder (6 cents) from the previous remainder (56 cents) and divide this by 25 to find out the number of quarters.\n",
    "6. Follow the same steps for the dimes, nickels and pennies.\n",
    "7. Display the result for your cashier! (the amount of dollars, quarters, dimes, nickels and pennies that (s)he would have to give back)`"
   ]
  },
  {
   "cell_type": "code",
   "execution_count": null,
   "metadata": {
    "collapsed": true
   },
   "outputs": [],
   "source": [
    "# cashier code"
   ]
  },
  {
   "cell_type": "markdown",
   "metadata": {},
   "source": [
    "## Exercise 2: Printing and user input\n"
   ]
  },
  {
   "cell_type": "markdown",
   "metadata": {},
   "source": [
    "#### 2a. Difference between \",\" and \"+\"\n",
    "\n",
    "What is the difference between using **+** and **,** in a print statement? Illustrate by using both in each of the following:\n",
    "\n",
    "* calling the `print()` fuction with multiple strings\n",
    "* printing combinations of strings and integers\n",
    "* concatenating multiple strings and assign to one single variable\n",
    "* concatenating strings and integers and assign to one single variable"
   ]
  },
  {
   "cell_type": "code",
   "execution_count": 35,
   "metadata": {},
   "outputs": [
    {
     "name": "stdout",
     "output_type": "stream",
     "text": [
      "test1 test2\n",
      "test1test2\n"
     ]
    }
   ],
   "source": [
    "# The comma makes it two seperate things passed to print, which print then seperately prints,\n",
    "# while the plus concatenates the strings before passing them jointly to the print method.\n",
    "# Example with strings:\n",
    "print(\"test1\", \"test2\")\n",
    "print(\"test1\" + \"test2\")"
   ]
  },
  {
   "cell_type": "code",
   "execution_count": 48,
   "metadata": {},
   "outputs": [
    {
     "name": "stdout",
     "output_type": "stream",
     "text": [
      "test 1\n",
      "Cannot perform print(\"test\" + 1) because that would concatenate a str and an int.\n",
      "To fix we would have to do: print(\"test\" + str(1)):\n",
      "test1\n"
     ]
    }
   ],
   "source": [
    "# printing both str and int will only work with comma, not with plus, as explained below:\n",
    "print(\"test\", 1)\n",
    "try:\n",
    "    print(\"test\" + 1)\n",
    "except TypeError:\n",
    "    print(f'Cannot perform print(\"test\" + 1) because that would concatenate a str and an int.\\n'+\n",
    "    'To fix we would have to do: print(\"test\" + str(1)):')\n",
    "    print(\"test\" + str(1))"
   ]
  },
  {
   "cell_type": "code",
   "execution_count": 50,
   "metadata": {},
   "outputs": [
    {
     "name": "stdout",
     "output_type": "stream",
     "text": [
      "('a', 'b', 'c', 'd')\n",
      "abcd\n"
     ]
    }
   ],
   "source": [
    "# As seen below, using a comma or a plus really matters when trying to concatenate.\n",
    "# The commas turn it into a tuple while the plus merely concatenates.\n",
    "\n",
    "test1 = 'a', 'b', 'c', 'd'\n",
    "print(test1)\n",
    "\n",
    "test2 = 'a'+ 'b'+ 'c'+ 'd'\n",
    "print(test2)"
   ]
  },
  {
   "cell_type": "code",
   "execution_count": 53,
   "metadata": {},
   "outputs": [
    {
     "name": "stdout",
     "output_type": "stream",
     "text": [
      "('a', 'b', 3, 4)\n",
      "Failed again, because Python won't concat str and int, would need to be solved by using str() on the numbers\n"
     ]
    }
   ],
   "source": [
    "# As we learned in the last attempt, commas make a tuple, while plusses concat\n",
    "# So the first one will work, but the second one will crash as you cannot concat str and int\n",
    "test1 = 'a', 'b', 3, 4\n",
    "print(test1)\n",
    "try:\n",
    "    test2 = 'a'+ 'b'+ 3+ 4\n",
    "    print(test2)\n",
    "except TypeError:\n",
    "    print(\"Failed again, because Python won't concat str and int, would need to be solved by using str() on the numbers\")\n",
    "\n"
   ]
  },
  {
   "cell_type": "markdown",
   "metadata": {
    "collapsed": true
   },
   "source": [
    "####  2b. Small Talk\n",
    "Write a program to have a little conversation with someone. First ask them for their name and their age, and then say something about your own age compared to theirs. Try to generate the following conversation:\n",
    "\n",
    "> `Hello there! What is your name?`\n",
    "\n",
    "> -- Emily.\n",
    "\n",
    "> `Nice to meet you, Emily. How old are you?`\n",
    "\n",
    "> -- 23\n",
    "\n",
    "> `I'm 25 years old, so I'm 2 years older than you.`\n",
    "\n",
    "Also account for situations where the other person is older or the same age. You will need to use `if`-statements!"
   ]
  },
  {
   "cell_type": "code",
   "execution_count": 59,
   "metadata": {},
   "outputs": [
    {
     "name": "stdout",
     "output_type": "stream",
     "text": [
      "Hello there! What is your name? Rick\n",
      "Nice to meet you, Rick. How old are you? 25\n",
      "I'm 25 years old, so I'm the same age as you.\n"
     ]
    }
   ],
   "source": [
    "MY_AGE = 25\n",
    "\n",
    "name = input(\"Hello there! What is your name? \")\n",
    "age = int(input(f\"Nice to meet you, {name}. How old are you? \"))\n",
    "if age < MY_AGE:\n",
    "    age_response = f\"{MY_AGE - age} years older than you\"\n",
    "elif age > MY_AGE:\n",
    "    age_response = f\"{age - MY_AGE} years younger than you\"\n",
    "else:\n",
    "    age_response = \"the same age as you\"\n",
    "\n",
    "print(f\"I'm {MY_AGE} years old, so I'm {age_response}.\")\n"
   ]
  },
  {
   "cell_type": "markdown",
   "metadata": {},
   "source": [
    "## Exercise 3: String Art"
   ]
  },
  {
   "cell_type": "markdown",
   "metadata": {},
   "source": [
    "#### 3a. Drawing figures\n",
    "We start with some repetition of the theory about strings:"
   ]
  },
  {
   "cell_type": "markdown",
   "metadata": {},
   "source": [
    "| Topic | Explanation |\n",
    "|-----------|--------|\n",
    "| `quotes` |\tA string is delimited by single quotes ('...') or double quotes (\"...\") |\n",
    "| `special characters` |\tCertain special characters can be used, such as \"\\n\" (for newline) and \"\\t\" (for a tab) \t|  \t \n",
    "| `printing special characters` |\tTo print the special characters, they must be preceded by a backslash (\\\\)\t |\n",
    "| `continue on next line` |\tA backslash (\\\\) at the end of a line is used to continue a string on the next line\t  \t |\n",
    "| `multi-line strings` |\tA multi-line print statement should be enclosed by three double or three single quotes (\"\"\"...\"\"\" of '''...''')\t | "
   ]
  },
  {
   "cell_type": "markdown",
   "metadata": {},
   "source": [
    "Please run the code snippet below and observe what happens:"
   ]
  },
  {
   "cell_type": "code",
   "execution_count": 60,
   "metadata": {},
   "outputs": [
    {
     "name": "stdout",
     "output_type": "stream",
     "text": [
      "hello\n",
      "\n",
      "To print a newline use \\n\n",
      "She said: 'hello'\n",
      "\tThis is indented\n",
      "This is a very, very, very, very, very, very long print statement\n",
      "\n",
      "This is a multi-line print statement\n",
      "First line\n",
      "Second line\n",
      "\n"
     ]
    }
   ],
   "source": [
    "print('hello\\n')\n",
    "print('To print a newline use \\\\n')\n",
    "print('She said: \\'hello\\'')\n",
    "print('\\tThis is indented')\n",
    "print('This is a very, very, very, very, very, very \\\n",
    "long print statement')\n",
    "print('''\n",
    "This is a multi-line print statement\n",
    "First line\n",
    "Second line\n",
    "''')"
   ]
  },
  {
   "cell_type": "markdown",
   "metadata": {},
   "source": [
    "Now write a Python script that prints the following figure using **only one line of code**! (so don't use triple quotes)\n",
    "\n",
    "        | | |\n",
    "         @ @\n",
    "          *\n",
    "        |\"\"\"|\n"
   ]
  },
  {
   "cell_type": "code",
   "execution_count": 63,
   "metadata": {},
   "outputs": [
    {
     "name": "stdout",
     "output_type": "stream",
     "text": [
      "| | |\n",
      " @ @ \n",
      "  *  \n",
      "|\"\"\"|\n"
     ]
    }
   ],
   "source": [
    "# your code here\n",
    "print('| | |\\n @ @ \\n  *  \\n|\"\"\"|')"
   ]
  },
  {
   "cell_type": "markdown",
   "metadata": {},
   "source": [
    "#### 3b. Colors\n",
    "We start again with some repetition of the theory:"
   ]
  },
  {
   "cell_type": "markdown",
   "metadata": {},
   "source": [
    "| Topic | Explanation |\n",
    "|-----------|--------|\n",
    "| a = b + c\t| if b and c are strings: concatenate b and c to form a new string a| \n",
    "| a = b * c\t| if b is an integer and c is a string: c is repeated b times to form a new string a |\n",
    "| a[0] |\t the first character of string a  |\n",
    "| len(a) |\t the number of characters in string a |\n",
    "| min(a) |\t the smallest element in string a (alphabetically first) |\n",
    "| max(a) |\t the largest element in string a (alphabetically last) |"
   ]
  },
  {
   "cell_type": "markdown",
   "metadata": {},
   "source": [
    "Please run the code snippet below and observe what happens:"
   ]
  },
  {
   "cell_type": "code",
   "execution_count": 64,
   "metadata": {},
   "outputs": [
    {
     "name": "stdout",
     "output_type": "stream",
     "text": [
      "the cat is on the mat\n",
      "thethethethethe\n",
      "The first character of cat is c\n",
      "The word c has, 3 characters\n"
     ]
    }
   ],
   "source": [
    "b = 'the'\n",
    "c = 'cat'\n",
    "d = ' is on the mat'\n",
    "a = b + ' ' + c + d\n",
    "print(a)\n",
    "a = b * 5\n",
    "print(a)\n",
    "print('The first character of', c, 'is' , c[0])\n",
    "print('The word c has,', len(c) ,'characters')"
   ]
  },
  {
   "cell_type": "markdown",
   "metadata": {},
   "source": [
    "Now write a program that asks users for their favorite color. Create the following output (assuming \"red\" is the chosen color). Use \"+\" and \"\\*\".\n",
    "It should work with any color name though.\n",
    "\n",
    "```xml\n",
    "red red red red red red red red red red  \n",
    "red                                 red\n",
    "red                                 red\n",
    "red red red red red red red red red red\n",
    "```"
   ]
  },
  {
   "cell_type": "code",
   "execution_count": 71,
   "metadata": {},
   "outputs": [
    {
     "name": "stdout",
     "output_type": "stream",
     "text": [
      "what is your favorite color? orange\n",
      "orange orange orange orange orange orange orange orange orange orange \n",
      "orange                                                         orange \n",
      "orange                                                         orange \n",
      "orange orange orange orange orange orange orange orange orange orange \n"
     ]
    }
   ],
   "source": [
    "color = input('what is your favorite color? ')\n",
    "color += \" \"\n",
    "print(color * 10)\n",
    "print(color + \" \"*8*len(color) + color)\n",
    "print(color + \" \"*8*len(color) + color)\n",
    "print(color * 10)"
   ]
  },
  {
   "cell_type": "markdown",
   "metadata": {},
   "source": [
    "## Exercise 4: String methods \n",
    "\n",
    "Remember that you can see all methods of the class `str` by using `dir()`. You can ignore all methods that start with one or two underscores. "
   ]
  },
  {
   "cell_type": "code",
   "execution_count": 76,
   "metadata": {},
   "outputs": [
    {
     "name": "stdout",
     "output_type": "stream",
     "text": [
      "['capitalize', 'casefold', 'center', 'count', 'encode', 'endswith', 'expandtabs', 'find', 'format', 'format_map', 'index', 'isalnum', 'isalpha', 'isascii', 'isdecimal', 'isdigit', 'isidentifier', 'islower', 'isnumeric', 'isprintable', 'isspace', 'istitle', 'isupper', 'join', 'ljust', 'lower', 'lstrip', 'maketrans', 'partition', 'replace', 'rfind', 'rindex', 'rjust', 'rpartition', 'rsplit', 'rstrip', 'split', 'splitlines', 'startswith', 'strip', 'swapcase', 'title', 'translate', 'upper', 'zfill']\n"
     ]
    }
   ],
   "source": [
    "print([thing for thing in dir(str) if thing[0] != \"_\"])"
   ]
  },
  {
   "cell_type": "markdown",
   "metadata": {},
   "source": [
    "To see the explanation for a method of this class,  you can use `help(str.method)`. For example:"
   ]
  },
  {
   "cell_type": "code",
   "execution_count": 77,
   "metadata": {},
   "outputs": [
    {
     "name": "stdout",
     "output_type": "stream",
     "text": [
      "Help on method_descriptor:\n",
      "\n",
      "upper(self, /)\n",
      "    Return a copy of the string converted to uppercase.\n",
      "\n"
     ]
    }
   ],
   "source": [
    "help(str.upper)"
   ]
  },
  {
   "cell_type": "markdown",
   "metadata": {
    "collapsed": true
   },
   "source": [
    "#### 4a. Counting vowels\n",
    "Count how many of each vowel (a,e,i,o,u) there are in the text string in the next cell, and use the appropriate string method to print the count for each vowel with a single formatted string. Remember that vowels can be both lower and uppercase."
   ]
  },
  {
   "cell_type": "code",
   "execution_count": 79,
   "metadata": {},
   "outputs": [
    {
     "name": "stdout",
     "output_type": "stream",
     "text": [
      "Text contains the letter a 98 times.\n",
      "Text contains the letter e 132 times.\n",
      "Text contains the letter i 76 times.\n",
      "Text contains the letter o 94 times.\n",
      "Text contains the letter u 53 times.\n"
     ]
    }
   ],
   "source": [
    "text = \"\"\"But I must explain to you how all this mistaken idea of denouncing pleasure and praising pain was born \n",
    "and I will give you a complete account of the system, and expound the actual teachings of the great explorer of the \n",
    "truth, the master-builder of human happiness. No one rejects, dislikes, or avoids pleasure itself, because it is \n",
    "pleasure, but because those who do not know how to pursue pleasure rationally encounter consequences that are \n",
    "extremely painful. Nor again is there anyone who loves or pursues or desires to obtain pain of itself, because it is \n",
    "pain, but because occasionally circumstances occur in which toil and pain can procure him some great pleasure. \n",
    "To take a trivial example, which of us ever undertakes laborious physical exercise, except to obtain some advantage \n",
    "from it? But who has any right to find fault with a man who chooses to enjoy a pleasure that has no annoying \n",
    "consequences, or one who avoids a pain that produces no resultant pleasure? On the other hand, we denounce with \n",
    "righteous indignation and dislike men who are so beguiled and demoralized by the charms of pleasure of the moment, \n",
    "so blinded by desire, that they cannot foresee the pain and trouble that are bound to ensue; and equal blame belongs \n",
    "to those who fail in their duty through weakness of will, which is the same as saying through shrinking from toil \n",
    "and pain.\"\"\"\n",
    "\n",
    "# your code here\n",
    "vowels = ['a', 'e', 'i', 'o', 'u']\n",
    "for vowel in vowels:\n",
    "    print(f'Text contains the letter {vowel} {text.lower().count(vowel)} times.')"
   ]
  },
  {
   "cell_type": "markdown",
   "metadata": {},
   "source": [
    "#### 4b. Printing the lexicon\n",
    "Have a good look at the internal representation of the string below. Use a combination of string methods (you will need at least 3 different ones and some will have to be used multiple times) in the correct order to remove punctuation and redundant whitespaces, and print each word in lowercase characters on a new line. The result should look like:\n",
    "\n",
    "`the  \n",
    "quick  \n",
    "brown  \n",
    "fox  \n",
    "jumps  \n",
    "etc.`"
   ]
  },
  {
   "cell_type": "code",
   "execution_count": 114,
   "metadata": {},
   "outputs": [
    {
     "name": "stdout",
     "output_type": "stream",
     "text": [
      "           The quick, brown fox jumps over a lazy dog.\tDJs flock by when MTV ax quiz prog. \n",
      "Junk MTV quiz graced by fox whelps.\tBawds jog, flick quartz, vex nymphs. \n",
      "Waltz, bad nymph, for quick jigs vex!\tFox nymphs grab quick-jived waltz. \n",
      "Brick quiz whangs jumpy veldt fox.       \n",
      "\n",
      "'           The quick, brown fox jumps over a lazy dog.\\tDJs flock by when MTV ax quiz prog. \\nJunk MTV quiz graced by fox whelps.\\tBawds jog, flick quartz, vex nymphs. \\nWaltz, bad nymph, for quick jigs vex!\\tFox nymphs grab quick-jived waltz. \\nBrick quiz whangs jumpy veldt fox.       '\n"
     ]
    }
   ],
   "source": [
    "text = \"\"\"           The quick, brown fox jumps over a lazy dog.\\tDJs flock by when MTV ax quiz prog. \n",
    "Junk MTV quiz graced by fox whelps.\\tBawds jog, flick quartz, vex nymphs. \n",
    "Waltz, bad nymph, for quick jigs vex!\\tFox nymphs grab quick-jived waltz. \n",
    "Brick quiz whangs jumpy veldt fox.       \"\"\"\n",
    "\n",
    "print(text)\n",
    "print()\n",
    "print(repr(text))"
   ]
  },
  {
   "cell_type": "code",
   "execution_count": 116,
   "metadata": {},
   "outputs": [
    {
     "name": "stdout",
     "output_type": "stream",
     "text": [
      "the\n",
      "quick\n",
      "brown\n",
      "fox\n",
      "jumps\n",
      "over\n",
      "a\n",
      "lazy\n",
      "dogdjs\n",
      "flock\n",
      "by\n",
      "when\n",
      "mtv\n",
      "ax\n",
      "quiz\n",
      "prog\n",
      "\n",
      "junk\n",
      "mtv\n",
      "quiz\n",
      "graced\n",
      "by\n",
      "fox\n",
      "whelpsbawds\n",
      "jog\n",
      "flick\n",
      "quartz\n",
      "vex\n",
      "nymphs\n",
      "\n",
      "waltz\n",
      "bad\n",
      "nymph\n",
      "for\n",
      "quick\n",
      "jigs\n",
      "vexfox\n",
      "nymphs\n",
      "grab\n",
      "quickjived\n",
      "waltz\n",
      "\n",
      "brick\n",
      "quiz\n",
      "whangs\n",
      "jumpy\n",
      "veldt\n",
      "fox\n"
     ]
    }
   ],
   "source": [
    "import string\n",
    "\n",
    "text = ''.join(char for char in text.lower().strip().replace(\"\\t\", \"\") if char not in string.punctuation)\n",
    "\n",
    "print('\\n'.join(text.split(\" \")))"
   ]
  },
  {
   "cell_type": "markdown",
   "metadata": {
    "collapsed": true
   },
   "source": [
    "#### 4c. Passwords\n",
    "\n",
    "Write a program that asks a user for a password and checks some simple requirements of a password. If necessary, print out the following warnings (use if-statements):\n",
    "\n",
    "1. Your password should contain at least 6 characters.\n",
    "2. Your password should contain no more than 12 characters.\n",
    "3. Your password only contains alphabetic characters! Please also use digits and/or special characters.\n",
    "4. Your password only contains digits! Please also use alphabetic and/or special characters.\n",
    "5. Your password should contain at least one special character.\n",
    "6. Your password contains only lowercase letters! Please also use uppercase letters.\n",
    "7. Your password contains only uppercase letters! Please also use lowercase letters."
   ]
  },
  {
   "cell_type": "code",
   "execution_count": 121,
   "metadata": {},
   "outputs": [
    {
     "name": "stdout",
     "output_type": "stream",
     "text": [
      "Your password only contains alphabetic characters! Please also use digits and/or special characters.\n",
      "Your password should contain at least one special character.\n",
      "Your password contains only lowercase letters! Please also use uppercase letters.\n"
     ]
    }
   ],
   "source": [
    "# your code here\n",
    "def pw_check(pw):\n",
    "    if len(pw) < 6:\n",
    "        print(\"Your password should contain at least 6 characters.\")\n",
    "    if len(pw) > 12:\n",
    "        print(\"Your password should contain no more than 12 characters.\")\n",
    "    if pw.isalpha():\n",
    "        print(\"Your password only contains alphabetic characters! Please also use digits and/or special characters.\")\n",
    "    if pw.isnumeric():\n",
    "        print(\"Your password only contains digits! Please also use alphabetic and/or special characters.\")\n",
    "    if not any(i in string.punctuation for i in pw):\n",
    "        print(\"Your password should contain at least one special character.\")\n",
    "    if pw.lower() == pw:\n",
    "        print(\"Your password contains only lowercase letters! Please also use uppercase letters.\")\n",
    "    if pw.upper() == pw:\n",
    "        print(\"Your password contains only uppercase letters! Please also use lowercase letters.\")\n",
    "pw_check(\"password\")\n",
    "pw_check(\"P4ssword!\")"
   ]
  },
  {
   "cell_type": "markdown",
   "metadata": {},
   "source": [
    "## Exercise 5: Boolean Logic and Conditions"
   ]
  },
  {
   "cell_type": "markdown",
   "metadata": {},
   "source": [
    "#### 5a. Speeding\n",
    "You are driving a little too fast, and a police officer stops you. Write code to compute the result, encoded as an int value: 0=no ticket, 1=small ticket, 2=big ticket. If speed is 60 or less, the result is 0. If speed is between 61 and 80 inclusive, the result is 1. If speed is 81 or more, the result is 2. Unless it is your birthday -- on that day, your speed can be 5 higher in all cases."
   ]
  },
  {
   "cell_type": "code",
   "execution_count": 127,
   "metadata": {},
   "outputs": [
    {
     "name": "stdout",
     "output_type": "stream",
     "text": [
      "If speed is 50 and it is my birthday, my fine is of value: 0\n",
      "If speed is 50 and it is not my birthday, my fine is of value: 0\n",
      "\n",
      "If speed is 55 and it is my birthday, my fine is of value: 0\n",
      "If speed is 55 and it is not my birthday, my fine is of value: 0\n",
      "\n",
      "If speed is 60 and it is my birthday, my fine is of value: 0\n",
      "If speed is 60 and it is not my birthday, my fine is of value: 0\n",
      "\n",
      "If speed is 65 and it is my birthday, my fine is of value: 0\n",
      "If speed is 65 and it is not my birthday, my fine is of value: 1\n",
      "\n",
      "If speed is 70 and it is my birthday, my fine is of value: 1\n",
      "If speed is 70 and it is not my birthday, my fine is of value: 1\n",
      "\n",
      "If speed is 75 and it is my birthday, my fine is of value: 1\n",
      "If speed is 75 and it is not my birthday, my fine is of value: 1\n",
      "\n",
      "If speed is 80 and it is my birthday, my fine is of value: 1\n",
      "If speed is 80 and it is not my birthday, my fine is of value: 1\n",
      "\n",
      "If speed is 85 and it is my birthday, my fine is of value: 1\n",
      "If speed is 85 and it is not my birthday, my fine is of value: 2\n",
      "\n",
      "If speed is 90 and it is my birthday, my fine is of value: 2\n",
      "If speed is 90 and it is not my birthday, my fine is of value: 2\n",
      "\n",
      "If speed is 95 and it is my birthday, my fine is of value: 2\n",
      "If speed is 95 and it is not my birthday, my fine is of value: 2\n",
      "\n"
     ]
    }
   ],
   "source": [
    "def speed_check(speed, birthday=False):\n",
    "    if birthday:\n",
    "        speed -= 5\n",
    "    if speed <= 60:\n",
    "        return 0\n",
    "    if speed<=80:\n",
    "        return 1\n",
    "    else:\n",
    "        return 2\n",
    "\n",
    "for speed in range(50, 100, 5):\n",
    "    for birthday in [True, False]:\n",
    "        print(f\"If speed is {speed} and it is {'not ' if not birthday else ''}my birthday, my fine is of value: {speed_check(speed, birthday)}\")\n",
    "    print()\n",
    "    "
   ]
  },
  {
   "cell_type": "markdown",
   "metadata": {},
   "source": [
    "#### 5b. Alarm clock\n",
    "\n",
    "Given a day of the week encoded as 0=Sun, 1=Mon, 2=Tue, ...6=Sat, and a boolean indicating if we are on vacation, return a string of the form \"7:00\" indicating when the alarm clock should ring. Weekdays, the alarm should be \"7:00\" and on the weekend it should be \"10:00\". Unless we are on vacation -- then on weekdays it should be \"10:00\" and weekends it should be \"off\"."
   ]
  },
  {
   "cell_type": "code",
   "execution_count": 131,
   "metadata": {},
   "outputs": [
    {
     "name": "stdout",
     "output_type": "stream",
     "text": [
      "Sunday on vacation: off\n",
      "Saturday not on vacation: 10:00\n",
      "Tuesday on vacation: 10:00\n",
      "Thursday not on vacation 7:00\n"
     ]
    }
   ],
   "source": [
    "# your code here\n",
    "def get_alarm_time(day_of_week, on_vacation):\n",
    "    if day_of_week not in [0,6]:\n",
    "        if on_vacation:\n",
    "            return \"10:00\"\n",
    "        else:\n",
    "            return \"7:00\"\n",
    "    else:\n",
    "        if on_vacation:\n",
    "            return \"off\"\n",
    "        else:\n",
    "            return \"10:00\"\n",
    "\n",
    "print(\"Sunday on vacation:\", get_alarm_time(0, True))\n",
    "print(\"Saturday not on vacation:\", get_alarm_time(6, False))\n",
    "print(\"Tuesday on vacation:\", get_alarm_time(2, True))\n",
    "print(\"Thursday not on vacation\", get_alarm_time(4, False))"
   ]
  },
  {
   "cell_type": "markdown",
   "metadata": {},
   "source": [
    "#### 5c. Parcel delivery\n",
    "The required postage for an  international parcel delivery service is calculated based on item weight and country of destination:\n",
    "\n",
    "\n",
    "| Tariff zone | 0 - 2 kg | 2 - 5 kg | 5 - 10 kg | 10 - 20 kg | 20 - 30 kg |\n",
    "|-------------|----------|----------|-----------|------------|------------|\n",
    "|EUR 1 | € 13.00 | € 19.50 | € 25.00 | € 34.00 | € 45.00 | \n",
    "|EUR 2 | € 18.50 | € 25.00 | € 31.00 | € 40.00 | € 55.00 | \n",
    "|World | € 24.30 | € 34.30 | € 58.30 | € 105.30 | - | \n",
    "\n",
    "Ask a user for the `weight` and `zone`. Use (nested) `if`-statements to find the required postage based on these variables. Assign the result to a variable `postage` and print the result using a full sentence:\n",
    "\n",
    "`The price of sending a [...] kg parcel to the [...] zone is € [...].`"
   ]
  },
  {
   "cell_type": "code",
   "execution_count": 141,
   "metadata": {},
   "outputs": [
    {
     "name": "stdout",
     "output_type": "stream",
     "text": [
      "Which zone are you sending to? Please enter exactly one of 'EUR 1', 'EUR 2', 'World'EUR 2\n",
      "What is the weight of the package?23\n",
      "The price of sending a 23.0 kg parcel to the EUR 2 zone is €55.\n"
     ]
    }
   ],
   "source": [
    "# Assumed is that the user enters proper input, no cleaning or checking is done.\n",
    "UNAVAILABLE = '--'\n",
    "TARRIFS = [[13, 19.5, 25, 34, 45], [18.5, 25, 31, 40, 55], [24.3, 34.3, 58.3, 105.3, UNAVAILABLE]]\n",
    "ZONES = {\"EUR 1\":0, \"EUR 2\":1, \"World\":2}\n",
    "WEIGHT_BOUNDARIES = [2,5,10,20,30]\n",
    "\n",
    "zone_input = input(\"Which zone are you sending to? Please enter exactly one of 'EUR 1', 'EUR 2', 'World'\").strip()\n",
    "zone_index = ZONES[zone_input]\n",
    "\n",
    "weight_input = float(input(\"What is the weight of the package?\"))\n",
    "for i, w in enumerate(WEIGHT_BOUNDARIES):\n",
    "    if weight_input < w:\n",
    "        weight_index = i\n",
    "        break\n",
    "\n",
    "price = TARRIFS[zone_index][weight_index]\n",
    "print(f\"The price of sending a {weight_input} kg parcel to the {zone_input} zone is €{price}.\")"
   ]
  },
  {
   "cell_type": "markdown",
   "metadata": {},
   "source": [
    "## Exercise 6: Debugging\n",
    "\n",
    "Debugging skills come in really handy, especially when you will be working with bigger programs. Therefore, it is good to practice this skill early on! \n",
    "\n",
    "The following cell does not run - it will throw an error instead. Can you figure out what is wrong? There is more than just one problem with the code. Solve the problems one by one and rerun the code after each step to check what is going on. \n",
    "\n",
    "** Attention: There is one bug in the code which is NOT going to give you an error message. If you solve all the other bugs, the code runs, but it is not doing what it is supposed to do.**"
   ]
  },
  {
   "cell_type": "code",
   "execution_count": 145,
   "metadata": {},
   "outputs": [
    {
     "name": "stdout",
     "output_type": "stream",
     "text": [
      "How many apples would you like? 10\n",
      "How many oranges would you like? 5\n",
      "I would like to by 10 apples and 5 oranges.\n",
      "The total price is 3.5 euros.\n",
      "This is too expensive! I only want to spend 3 euros.\n",
      "Choose fewer apples. 2\n",
      "The new price is 1.9 euros.\n",
      "Ok, could you wrap them for me?\n"
     ]
    }
   ],
   "source": [
    "n_apples = int(input('How many apples would you like? '))\n",
    "n_oranges = int(input('How many oranges would you like? '))\n",
    "price_apple = 0.20\n",
    "price_orange = 0.30\n",
    "limit = 3\n",
    "\n",
    "print(f'I would like to by {n_apples} apples and {n_oranges} oranges.')\n",
    "price = n_apples * price_apple + n_oranges * price_orange\n",
    "print(f'The total price is {price} euros.')\n",
    "\n",
    "if price > limit: \n",
    "    print(f'This is too expensive! I only want to spend {limit} euros.')\n",
    "    n_apples_new = float(input('Choose fewer apples. '))\n",
    "    price_new = n_apples_new * price_apple + n_oranges * price_orange\n",
    "    print(f'The new price is {price_new} euros.')\n",
    "    if price_new > limit:\n",
    "        print('Still too expensive! I\\'m going home.')\n",
    "    else:\n",
    "        print('Ok, could you wrap them for me?')\n",
    "else:\n",
    "    print('Ok, could you wrap them for me?')"
   ]
  },
  {
   "cell_type": "code",
   "execution_count": null,
   "metadata": {
    "collapsed": true
   },
   "outputs": [],
   "source": []
  }
 ],
 "metadata": {
  "anaconda-cloud": {},
  "kernelspec": {
   "display_name": "Python 3",
   "language": "python",
   "name": "python3"
  },
  "language_info": {
   "codemirror_mode": {
    "name": "ipython",
    "version": 3
   },
   "file_extension": ".py",
   "mimetype": "text/x-python",
   "name": "python",
   "nbconvert_exporter": "python",
   "pygments_lexer": "ipython3",
   "version": "3.7.3"
  }
 },
 "nbformat": 4,
 "nbformat_minor": 1
}
